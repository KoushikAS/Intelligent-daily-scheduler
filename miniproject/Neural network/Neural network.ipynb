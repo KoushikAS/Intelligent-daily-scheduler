{
 "cells": [
  {
   "cell_type": "code",
   "execution_count": 4,
   "metadata": {},
   "outputs": [],
   "source": [
    "import tensorflow as tf\n",
    "import csv\n",
    "import pandas as pd\n",
    "from sklearn.model_selection import train_test_split\n",
    "import numpy as np "
   ]
  },
  {
   "cell_type": "code",
   "execution_count": 5,
   "metadata": {},
   "outputs": [
    {
     "name": "stdout",
     "output_type": "stream",
     "text": [
      "   Unnamed: 0            date time  Free  month  day  hour  minu  weekday\n",
      "0           0  2011-11-28 00:00:00     0     11   28     0     0        0\n",
      "1           1  2011-11-28 00:15:00     0     11   28     0    15        0\n",
      "2           2  2011-11-28 00:30:00     0     11   28     0    30        0\n",
      "3           3  2011-11-28 00:45:00     0     11   28     0    45        0\n",
      "4           4  2011-11-28 01:00:00     0     11   28     1     0        0\n"
     ]
    }
   ],
   "source": [
    "df=pd.read_csv(\"data.csv\",parse_dates=True)\n",
    "print(df.head())"
   ]
  },
  {
   "cell_type": "code",
   "execution_count": 58,
   "metadata": {},
   "outputs": [
    {
     "name": "stdout",
     "output_type": "stream",
     "text": [
      "     0    1\n",
      "0  1.0  0.0\n",
      "1  1.0  0.0\n",
      "2  0.0  1.0\n",
      "3  1.0  0.0\n",
      "4  0.0  1.0\n",
      "     0    1\n",
      "0  0.0  1.0\n",
      "1  1.0  0.0\n",
      "2  1.0  0.0\n",
      "3  0.0  1.0\n",
      "4  1.0  0.0\n"
     ]
    }
   ],
   "source": [
    "x_axis=df[['month','day','hour','minu','weekday']]\n",
    "y_axis=df[['Free']]\n",
    "\n",
    "\n",
    "x_train, x_test, y_train1, y_test1 = train_test_split(x_axis, y_axis, test_size=0.1)\n",
    "\n",
    "y_train = pd.DataFrame({'0': [], '1': []})\n",
    "for i  in range(0,len(y_train1)):\n",
    "    z=[0,0]\n",
    "    if(y_train1.iloc[i].Free==0):\n",
    "        z[0]=1\n",
    "    else:\n",
    "        z[1]=1\n",
    "    \n",
    "    y_train = y_train.append({'0':int(z[0]), '1':int(z[1])}, ignore_index=True)\n",
    "\n",
    "\n",
    "y_test = pd.DataFrame({'0': [], '1': []})\n",
    "for i  in range(0,len(y_test1)):\n",
    "    z=[0,0]\n",
    "    if(y_test1.iloc[i].Free==0):\n",
    "        z[0]=1\n",
    "    else:\n",
    "        z[1]=1\n",
    "    \n",
    "    y_test = y_test.append({'0':int(z[0]), '1':int(z[1])}, ignore_index=True)\n",
    "\n",
    "print(y_train.head())\n",
    "print(y_test.head())\n",
    "       "
   ]
  },
  {
   "cell_type": "code",
   "execution_count": 63,
   "metadata": {
    "scrolled": true
   },
   "outputs": [
    {
     "name": "stdout",
     "output_type": "stream",
     "text": [
      "Epoch 0 completed out of 10 loss: 132897.60888671875\n",
      "Epoch 1 completed out of 10 loss: 59469.7158203125\n",
      "Epoch 2 completed out of 10 loss: 38568.396484375\n",
      "Epoch 3 completed out of 10 loss: 26220.798278808594\n",
      "Epoch 4 completed out of 10 loss: 14132.06704711914\n",
      "Epoch 5 completed out of 10 loss: 11827.139373779297\n",
      "Epoch 6 completed out of 10 loss: 10845.101440429688\n",
      "Epoch 7 completed out of 10 loss: 11076.003356933594\n",
      "Epoch 8 completed out of 10 loss: 12347.807312011719\n",
      "Epoch 9 completed out of 10 loss: 14494.199493408203\n",
      "Accuracy: 0.6736111\n"
     ]
    }
   ],
   "source": [
    "n_nodes_hl1 = 500\n",
    "n_nodes_hl2 = 500\n",
    "n_nodes_hl3 = 500\n",
    "\n",
    "n_classes = 2\n",
    "batch_size = 100\n",
    "\n",
    "x = tf.placeholder('float', [None, len(x_train.iloc[0])])\n",
    "y = tf.placeholder('float',[None, len(y_train.iloc[0])])\n",
    "\n",
    "def neural_network_model(data):\n",
    "    hidden_1_layer = {'weights':tf.Variable(tf.random_normal([len(x_train.iloc[0]), n_nodes_hl1])),\n",
    "                      'biases':tf.Variable(tf.random_normal([n_nodes_hl1]))}\n",
    "\n",
    "    hidden_2_layer = {'weights':tf.Variable(tf.random_normal([n_nodes_hl1, n_nodes_hl2])),\n",
    "                      'biases':tf.Variable(tf.random_normal([n_nodes_hl2]))}\n",
    "\n",
    "    hidden_3_layer = {'weights':tf.Variable(tf.random_normal([n_nodes_hl2, n_nodes_hl3])),\n",
    "                      'biases':tf.Variable(tf.random_normal([n_nodes_hl3]))}\n",
    "\n",
    "    output_layer = {'weights':tf.Variable(tf.random_normal([n_nodes_hl3, n_classes])),\n",
    "                    'biases':tf.Variable(tf.random_normal([n_classes])),}\n",
    "\n",
    "\n",
    "    l1 = tf.add(tf.matmul(data,hidden_1_layer['weights']), hidden_1_layer['biases'])\n",
    "    l1 = tf.nn.relu(l1)\n",
    "\n",
    "    l2 = tf.add(tf.matmul(l1,hidden_2_layer['weights']), hidden_2_layer['biases'])\n",
    "    l2 = tf.nn.relu(l2)\n",
    "\n",
    "    l3 = tf.add(tf.matmul(l2,hidden_3_layer['weights']), hidden_3_layer['biases'])\n",
    "    l3 = tf.nn.relu(l3)\n",
    "\n",
    "    output = tf.matmul(l3,output_layer['weights']) + output_layer['biases']\n",
    "    \n",
    "    return output\n",
    "\n",
    "def train_neural_network(x):\n",
    "    prediction = neural_network_model(x)\n",
    "    # OLD VERSION:\n",
    "    #cost = tf.reduce_mean( tf.nn.softmax_cross_entropy_with_logits(prediction,y) )\n",
    "    # NEW:\n",
    "   \n",
    "    cost = tf.reduce_mean( tf.nn.softmax_cross_entropy_with_logits(logits=prediction, labels=y) )\n",
    "    optimizer = tf.train.AdamOptimizer().minimize(cost)\n",
    "    \n",
    "    hm_epochs = 10\n",
    "    with tf.Session() as sess:\n",
    "        # OLD:\n",
    "        #sess.run(tf.initialize_all_variables())\n",
    "        # NEW:\n",
    "        sess.run(tf.global_variables_initializer())\n",
    "\n",
    "        for epoch in range(hm_epochs):\n",
    "            epoch_loss = 0\n",
    "            i=0\n",
    "            while(i<len(x_train)):\n",
    "                start=i\n",
    "                end=i+ batch_size\n",
    "                \n",
    "                batch_x=np.array(x_train[start:end])\n",
    "                batch_y=np.array(y_train[start:end])                \n",
    "                \n",
    "                \n",
    "                _, c = sess.run([optimizer, cost], feed_dict={x:batch_x, y: batch_y})\n",
    "                epoch_loss += c\n",
    "                i=i+batch_size\n",
    "            print('Epoch', epoch, 'completed out of',hm_epochs,'loss:',epoch_loss)\n",
    "\n",
    "        correct = tf.equal(tf.argmax(prediction, 1), tf.argmax(y, 1))\n",
    "\n",
    "        accuracy = tf.reduce_mean(tf.cast(correct, 'float'))\n",
    "        print('Accuracy:',accuracy.eval({x:x_test, y:y_test}))\n",
    "\n",
    "train_neural_network(x)"
   ]
  },
  {
   "cell_type": "code",
   "execution_count": null,
   "metadata": {},
   "outputs": [],
   "source": []
  },
  {
   "cell_type": "code",
   "execution_count": null,
   "metadata": {},
   "outputs": [],
   "source": []
  }
 ],
 "metadata": {
  "kernelspec": {
   "display_name": "Python 3",
   "language": "python",
   "name": "python3"
  },
  "language_info": {
   "codemirror_mode": {
    "name": "ipython",
    "version": 3
   },
   "file_extension": ".py",
   "mimetype": "text/x-python",
   "name": "python",
   "nbconvert_exporter": "python",
   "pygments_lexer": "ipython3",
   "version": "3.5.2"
  }
 },
 "nbformat": 4,
 "nbformat_minor": 2
}
