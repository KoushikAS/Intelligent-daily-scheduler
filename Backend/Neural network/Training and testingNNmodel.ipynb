{
 "cells": [
  {
   "cell_type": "code",
   "execution_count": 30,
   "metadata": {},
   "outputs": [],
   "source": [
    "import tensorflow as tf\n",
    "import csv\n",
    "import pandas as pd\n",
    "import matplotlib.pyplot as plt\n",
    "import numpy as np\n",
    "from sklearn.metrics import roc_curve, auc\n"
   ]
  },
  {
   "cell_type": "code",
   "execution_count": 31,
   "metadata": {},
   "outputs": [
    {
     "name": "stdout",
     "output_type": "stream",
     "text": [
      "   Free  hour  minu  weekday\n",
      "0     0     0     0        0\n",
      "1     0     0    15        0\n",
      "2     0     0    30        0\n",
      "3     0     0    45        0\n",
      "4     0     1     0        0\n"
     ]
    }
   ],
   "source": [
    "df=pd.read_csv(\"final_data.csv\",parse_dates=True)\n",
    "print(df.head())"
   ]
  },
  {
   "cell_type": "code",
   "execution_count": 32,
   "metadata": {},
   "outputs": [],
   "source": [
    "CSV_COLUMN_NAMES = ['Free','hour','minu','weekday']\n"
   ]
  },
  {
   "cell_type": "code",
   "execution_count": 33,
   "metadata": {},
   "outputs": [],
   "source": [
    "def load_traindata(label_name='Free'):\n",
    "    \"\"\"Parses the csv file in TRAIN_URL .\"\"\"\n",
    "    train_path=\"train_data1.csv\" # For Training NN model\n",
    "\n",
    "    train = pd.read_csv(filepath_or_buffer=train_path,\n",
    "                        names=CSV_COLUMN_NAMES,  # list of column names\n",
    "                        header=0,  # ignore the first row of the CSV file.\n",
    "                        skipinitialspace=True,\n",
    "                        #skiprows=1\n",
    "                       )\n",
    "\n",
    "    train.hour = train.hour.astype(str)\n",
    "    train.minu= train.minu.astype(str)\n",
    "    train.weekday= train.weekday.astype(str)\n",
    "    \n",
    "\n",
    "    train_features, train_label = train, train.pop(label_name)\n",
    "\n",
    "    return (train_features, train_label)"
   ]
  },
  {
   "cell_type": "code",
   "execution_count": 34,
   "metadata": {},
   "outputs": [],
   "source": [
    "# we Are obtaining training features and labels from train_data1.csv\n",
    "\n",
    "(train_feature, train_label) = load_traindata()\n"
   ]
  },
  {
   "cell_type": "code",
   "execution_count": 35,
   "metadata": {},
   "outputs": [
    {
     "name": "stdout",
     "output_type": "stream",
     "text": [
      "  hour minu weekday\n",
      "0    0    0       0\n",
      "1    0   15       0\n",
      "2    0   30       0\n",
      "3    0   45       0\n",
      "4    1    0       0\n",
      "0    0\n",
      "1    0\n",
      "2    0\n",
      "3    0\n",
      "4    0\n",
      "Name: Free, dtype: int64\n"
     ]
    }
   ],
   "source": [
    "print(train_feature.head())\n",
    "print(train_label.head())"
   ]
  },
  {
   "cell_type": "code",
   "execution_count": 36,
   "metadata": {},
   "outputs": [],
   "source": [
    "#creating normal features and crossed features for the nn model\n",
    "\n",
    "weekday = tf.feature_column.categorical_column_with_vocabulary_list(\n",
    "    'weekday', ['0', '1', '2', '3', '4','5','6'])\n",
    "hour = tf.feature_column.categorical_column_with_vocabulary_list(\n",
    "    'hour', [ '0', '1', '2', '3', '4','5','6','7','8','10','12','13','14','15','16','17','18','19','20','21','22','23'])\n",
    "minu = tf.feature_column.categorical_column_with_vocabulary_list(\n",
    "    'minu', [ '0', '15', '30', '45'])\n",
    "\n",
    "base_columns = [\n",
    "    tf.feature_column.indicator_column(weekday),\n",
    "    tf.feature_column.indicator_column(hour),\n",
    "    tf.feature_column.indicator_column(minu)\n",
    "]\n",
    "\n",
    "\n",
    "weekday_x_hour_x_minu = tf.feature_column.crossed_column(\n",
    "    ['weekday', 'hour','minu'], hash_bucket_size=1000)\n",
    "\n",
    "weekday_x_hour = tf.feature_column.crossed_column(\n",
    "    ['weekday', 'hour'], hash_bucket_size=1000)\n",
    "\n",
    "hour_x_minu = tf.feature_column.crossed_column(\n",
    "    ['hour','minu'], hash_bucket_size=1000)\n",
    "\n",
    "crossed_columns = [\n",
    "     tf.feature_column.indicator_column(weekday_x_hour_x_minu),\n",
    "     tf.feature_column.indicator_column(weekday_x_hour) , \n",
    "     tf.feature_column.indicator_column(hour_x_minu)\n",
    "]"
   ]
  },
  {
   "cell_type": "code",
   "execution_count": 37,
   "metadata": {},
   "outputs": [
    {
     "name": "stdout",
     "output_type": "stream",
     "text": [
      "INFO:tensorflow:Using default config.\n",
      "WARNING:tensorflow:Using temporary folder as model directory: C:\\Users\\Koushik\\AppData\\Local\\Temp\\tmp3qnwcyws\n",
      "INFO:tensorflow:Using config: {'_session_config': None, '_keep_checkpoint_max': 5, '_evaluation_master': '', '_task_id': 0, '_keep_checkpoint_every_n_hours': 10000, '_tf_random_seed': None, '_master': '', '_task_type': 'worker', '_log_step_count_steps': 100, '_save_checkpoints_secs': 600, '_is_chief': True, '_model_dir': 'C:\\\\Users\\\\Koushik\\\\AppData\\\\Local\\\\Temp\\\\tmp3qnwcyws', '_service': None, '_num_worker_replicas': 1, '_save_summary_steps': 100, '_num_ps_replicas': 0, '_save_checkpoints_steps': None, '_global_id_in_cluster': 0, '_cluster_spec': <tensorflow.python.training.server_lib.ClusterSpec object at 0x000002383FF1C780>}\n"
     ]
    }
   ],
   "source": [
    "#running Dnn classifer model with the features designed above and with 2 hidden layers (with 4 nodes and 2 nodes) and input layer with 6 nodes\n",
    "classifier = tf.estimator.DNNClassifier(feature_columns=base_columns+crossed_columns,hidden_units=[6, 4,2],n_classes=2)"
   ]
  },
  {
   "cell_type": "code",
   "execution_count": 38,
   "metadata": {},
   "outputs": [
    {
     "name": "stdout",
     "output_type": "stream",
     "text": [
      "INFO:tensorflow:Calling model_fn.\n",
      "INFO:tensorflow:Done calling model_fn.\n",
      "INFO:tensorflow:Create CheckpointSaverHook.\n",
      "INFO:tensorflow:Graph was finalized.\n",
      "INFO:tensorflow:Running local_init_op.\n",
      "INFO:tensorflow:Done running local_init_op.\n",
      "INFO:tensorflow:Saving checkpoints for 1 into C:\\Users\\Koushik\\AppData\\Local\\Temp\\tmp3qnwcyws\\model.ckpt.\n",
      "INFO:tensorflow:loss = 34.68165, step = 1\n",
      "INFO:tensorflow:global_step/sec: 57.7198\n",
      "INFO:tensorflow:loss = 12.922724, step = 101 (1.735 sec)\n",
      "INFO:tensorflow:global_step/sec: 55.3442\n",
      "INFO:tensorflow:loss = 12.39118, step = 201 (1.805 sec)\n",
      "INFO:tensorflow:global_step/sec: 63.0906\n",
      "INFO:tensorflow:loss = 8.415089, step = 301 (1.580 sec)\n",
      "INFO:tensorflow:global_step/sec: 59.9505\n",
      "INFO:tensorflow:loss = 7.9561324, step = 401 (1.669 sec)\n",
      "INFO:tensorflow:global_step/sec: 56.4772\n",
      "INFO:tensorflow:loss = 7.541585, step = 501 (1.775 sec)\n",
      "INFO:tensorflow:global_step/sec: 60.317\n",
      "INFO:tensorflow:loss = 15.2248955, step = 601 (1.656 sec)\n",
      "INFO:tensorflow:global_step/sec: 68.8275\n",
      "INFO:tensorflow:loss = 6.2119827, step = 701 (1.452 sec)\n",
      "INFO:tensorflow:global_step/sec: 56.152\n",
      "INFO:tensorflow:loss = 10.038848, step = 801 (1.783 sec)\n",
      "INFO:tensorflow:global_step/sec: 60.4954\n",
      "INFO:tensorflow:loss = 6.506777, step = 901 (1.653 sec)\n",
      "INFO:tensorflow:Saving checkpoints for 1000 into C:\\Users\\Koushik\\AppData\\Local\\Temp\\tmp3qnwcyws\\model.ckpt.\n",
      "INFO:tensorflow:Loss for final step: 4.365655.\n"
     ]
    },
    {
     "data": {
      "text/plain": [
       "<tensorflow.python.estimator.canned.dnn.DNNClassifier at 0x2383fd90550>"
      ]
     },
     "execution_count": 38,
     "metadata": {},
     "output_type": "execute_result"
    }
   ],
   "source": [
    "#training the nnmodel\n",
    "\n",
    "def train_input_fn(features, labels, batch_size):\n",
    "        dataset = tf.data.Dataset.from_tensor_slices((dict(features), labels))\n",
    "        \n",
    "        dataset = dataset.shuffle(buffer_size=1000).repeat(count=None).batch(batch_size)\n",
    "        \n",
    "        return dataset.make_one_shot_iterator().get_next()\n",
    "\n",
    "\n",
    "classifier.train(\n",
    "        input_fn=lambda:train_input_fn(train_feature, train_label, 50 ),\n",
    "        steps=1000)"
   ]
  },
  {
   "cell_type": "code",
   "execution_count": 39,
   "metadata": {},
   "outputs": [],
   "source": [
    "def eval_input_fn(features, labels=None, batch_size=None):\n",
    "    \"\"\"An input function for evaluation or prediction\"\"\"\n",
    "    if labels is None:\n",
    "        # No labels, use only features.\n",
    "        inputs = features\n",
    "    else:\n",
    "        inputs = (features, labels)\n",
    "\n",
    "    # Convert inputs to a tf.dataset object.\n",
    "    dataset = tf.data.Dataset.from_tensor_slices(inputs)\n",
    "\n",
    "    # Batch the examples\n",
    "    assert batch_size is not None, \"batch_size must not be None\"\n",
    "    dataset = dataset.batch(batch_size)\n",
    "\n",
    "    # Return the read end of the pipeline.\n",
    "    return dataset.make_one_shot_iterator().get_next()\n",
    "\n"
   ]
  },
  {
   "cell_type": "code",
   "execution_count": 40,
   "metadata": {},
   "outputs": [
    {
     "name": "stdout",
     "output_type": "stream",
     "text": [
      "672\n",
      "   Free  hour  minu  weekday\n",
      "0     0     0    15        3\n",
      "1     0     0    30        3\n",
      "2     0     0    45        3\n",
      "3     0     1     0        3\n",
      "4     0     1    15        3\n"
     ]
    }
   ],
   "source": [
    "#predicting for all time intevals in a day with the trained model\n",
    "df=pd.read_csv(\"topredict.csv\",parse_dates=True)\n",
    "\n",
    "predict_x= {  'hour':[ ],\n",
    "        'minu':[ ] ,\n",
    "        'weekday':[ ]\n",
    "}\n",
    "\n",
    "print(len(df))\n",
    "\n",
    "predict_x['hour'] = df.hour.astype(str)\n",
    "predict_x['minu']= df.minu.astype(str)\n",
    "predict_x['weekday']= df.weekday.astype(str)\n",
    "df['Free'] = [0 for x in range(df.shape[0])]\n",
    "print(df.head())\n",
    "\n"
   ]
  },
  {
   "cell_type": "code",
   "execution_count": 41,
   "metadata": {},
   "outputs": [
    {
     "name": "stdout",
     "output_type": "stream",
     "text": [
      "<generator object Estimator.predict at 0x0000023892D07F10>\n",
      "INFO:tensorflow:Calling model_fn.\n",
      "INFO:tensorflow:Done calling model_fn.\n",
      "INFO:tensorflow:Graph was finalized.\n",
      "INFO:tensorflow:Restoring parameters from C:\\Users\\Koushik\\AppData\\Local\\Temp\\tmp3qnwcyws\\model.ckpt-1000\n",
      "INFO:tensorflow:Running local_init_op.\n",
      "INFO:tensorflow:Done running local_init_op.\n"
     ]
    }
   ],
   "source": [
    "\n",
    "predictions = classifier.predict(\n",
    "    input_fn=lambda:eval_input_fn(predict_x,\n",
    "                                  labels=None,\n",
    "                                  batch_size=50))\n",
    "print(predictions)\n",
    "\n",
    "\n",
    "i=0\n",
    "for pred_dict in zip(predictions):\n",
    "    if pred_dict[0]['classes'] == [b'1']:\n",
    "        \n",
    "        df.iloc[i,0]=1\n",
    "        \n",
    "    i=i+1\n",
    "\n"
   ]
  },
  {
   "cell_type": "code",
   "execution_count": 42,
   "metadata": {},
   "outputs": [],
   "source": [
    "df.to_csv(\"predictedValue.csv\",mode = 'w', index=False)"
   ]
  },
  {
   "cell_type": "code",
   "execution_count": 43,
   "metadata": {},
   "outputs": [],
   "source": [
    "#similar to load_traindata but for this is done for testing data set\n",
    "def load_test_data(label_name='Free'):\n",
    "    \n",
    "    test_path = \"test_data.csv\"\n",
    "    \n",
    "    test = pd.read_csv(test_path, names=CSV_COLUMN_NAMES, header=0,  # ignore the first row of the CSV file.\n",
    "                        skipinitialspace=True,\n",
    "                        skiprows=1)\n",
    "\n",
    "\n",
    "    test.hour = test.hour.astype(str)\n",
    "    test.minu= test.minu.astype(str)\n",
    "    test.weekday= test.weekday.astype(str)\n",
    "    \n",
    "    print(test.dtypes)\n",
    "    test_features, test_label = test, test.pop(label_name)    \n",
    "    return (test_features, test_label)\n",
    "    "
   ]
  },
  {
   "cell_type": "code",
   "execution_count": 44,
   "metadata": {},
   "outputs": [
    {
     "name": "stdout",
     "output_type": "stream",
     "text": [
      "Free        int64\n",
      "hour       object\n",
      "minu       object\n",
      "weekday    object\n",
      "dtype: object\n",
      "  hour minu weekday\n",
      "0    0   30       3\n",
      "1    0   45       3\n",
      "2    1    0       3\n",
      "3    1   15       3\n",
      "4    1   30       3\n"
     ]
    }
   ],
   "source": [
    "(test_feature, test_label) = load_test_data()\n",
    "\n",
    "print(test_feature.head())"
   ]
  },
  {
   "cell_type": "code",
   "execution_count": 45,
   "metadata": {},
   "outputs": [
    {
     "name": "stdout",
     "output_type": "stream",
     "text": [
      "436\n",
      "   Free  hour  minu  weekday\n",
      "0     0    10    15        3\n",
      "1     0    10    30        3\n",
      "2     0    10    45        3\n",
      "3     0    11     0        3\n",
      "4     0    11    15        3\n"
     ]
    }
   ],
   "source": [
    "#reading for test data set for testing purposes \n",
    "\n",
    "df=pd.read_csv(\"test_data1.csv\",parse_dates=True)\n",
    "\n",
    "test_feature= {  'hour':[ ],\n",
    "        'minu':[ ] ,\n",
    "        'weekday':[ ]\n",
    "}\n",
    "\n",
    "print(len(df))\n",
    "\n",
    "test_label=[]\n",
    "test_feature['hour'] = df.hour.astype(str)\n",
    "test_feature['minu']= df.minu.astype(str)\n",
    "test_feature['weekday']= df.weekday.astype(str)\n",
    "test_label=list(df.Free.astype(int))\n",
    "print(df.head())\n"
   ]
  },
  {
   "cell_type": "code",
   "execution_count": 46,
   "metadata": {},
   "outputs": [
    {
     "name": "stdout",
     "output_type": "stream",
     "text": [
      "436\n"
     ]
    }
   ],
   "source": [
    "print(len(test_label))"
   ]
  },
  {
   "cell_type": "code",
   "execution_count": 47,
   "metadata": {},
   "outputs": [
    {
     "name": "stdout",
     "output_type": "stream",
     "text": [
      "<generator object Estimator.predict at 0x0000023892F79F10>\n",
      "INFO:tensorflow:Calling model_fn.\n",
      "INFO:tensorflow:Done calling model_fn.\n",
      "INFO:tensorflow:Graph was finalized.\n",
      "INFO:tensorflow:Restoring parameters from C:\\Users\\Koushik\\AppData\\Local\\Temp\\tmp3qnwcyws\\model.ckpt-1000\n",
      "INFO:tensorflow:Running local_init_op.\n",
      "INFO:tensorflow:Done running local_init_op.\n",
      "436\n"
     ]
    }
   ],
   "source": [
    "\n",
    "predictions = classifier.predict(\n",
    "    input_fn=lambda:eval_input_fn(test_feature,\n",
    "                                  labels=None,\n",
    "                                  batch_size=50))\n",
    "print(predictions)\n",
    "\n",
    "\n",
    "i=0\n",
    "pred_label=[]\n",
    "for pred_dict in zip(predictions):\n",
    "    if pred_dict[0]['classes'] == [b'1']:\n",
    "        \n",
    "        pred_label.append(1)\n",
    "        \n",
    "    else:\n",
    "        pred_label.append(0)\n",
    "    i=i+1\n",
    "\n",
    "print(len(pred_label))"
   ]
  },
  {
   "cell_type": "code",
   "execution_count": 48,
   "metadata": {},
   "outputs": [],
   "source": [
    "#ploting a confusion matrix with the tested data \n",
    "\n",
    "def plot_confusion_matrix(cm, names, title='Confusion matrix', cmap=plt.cm.Blues):\n",
    "    plt.imshow(cm, interpolation='nearest', cmap=cmap)\n",
    "    plt.title(title)\n",
    "    plt.colorbar()\n",
    "    tick_marks = np.arange(len(names))\n",
    "    plt.xticks(tick_marks, names, rotation=45)\n",
    "    plt.yticks(tick_marks, names)\n",
    "    plt.tight_layout()\n",
    "    plt.ylabel('True label')\n",
    "    plt.xlabel('Predicted label')\n",
    "    \n",
    "\n",
    "# Plot an ROC. pred - the predictions, y - the expected output.\n",
    "def plot_roc(pred,y):\n",
    "    fpr, tpr, _ = roc_curve(y, pred)\n",
    "    roc_auc = auc(fpr, tpr)\n",
    "    print(\"Auc of classifer is \")\n",
    "    print(roc_auc)\n",
    "    plt.figure()\n",
    "    plt.plot(fpr, tpr, label='ROC curve (area = %0.2f)' % roc_auc)\n",
    "    plt.plot([0, 1], [0, 1], 'k--')\n",
    "    plt.xlim([0.0, 1.0])\n",
    "    plt.ylim([0.0, 1.05])\n",
    "    plt.xlabel('False Positive Rate')\n",
    "    plt.ylabel('True Positive Rate')\n",
    "    plt.title('Receiver Operating Characteristic (ROC)')\n",
    "    plt.legend(loc=\"lower right\")\n",
    "    plt.show()"
   ]
  },
  {
   "cell_type": "code",
   "execution_count": 49,
   "metadata": {},
   "outputs": [
    {
     "name": "stdout",
     "output_type": "stream",
     "text": [
      "Confusion Matrix: \n",
      "\n",
      "\n",
      "[[174 116]\n",
      " [ 34 112]]\n"
     ]
    }
   ],
   "source": [
    "con_mat =tf.confusion_matrix(test_label,pred_label )\n",
    "cm=[]\n",
    "print('Confusion Matrix: \\n\\n')\n",
    "with tf.Session():\n",
    "    cm=tf.Tensor.eval(con_mat,feed_dict=None, session=None)\n",
    "print(cm)"
   ]
  },
  {
   "cell_type": "code",
   "execution_count": 50,
   "metadata": {},
   "outputs": [
    {
     "data": {
      "image/png": "[encoded data removed]",
      "text/plain": [
       "<Figure size 432x288 with 2 Axes>"
      ]
     },
     "metadata": {},
     "output_type": "display_data"
    }
   ],
   "source": [
    "plt.figure()\n",
    "diagnosis=[\"Free Time\"]\n",
    "plot_confusion_matrix(cm, diagnosis)"
   ]
  },
  {
   "cell_type": "code",
   "execution_count": 51,
   "metadata": {},
   "outputs": [
    {
     "name": "stdout",
     "output_type": "stream",
     "text": [
      "Normalized confusion matrix\n",
      "[[0.6        0.4       ]\n",
      " [0.23287671 0.76712329]]\n"
     ]
    },
    {
     "data": {
      "image/png": "[encoded data removed]",
      "text/plain": [
       "<Figure size 432x288 with 2 Axes>"
      ]
     },
     "metadata": {},
     "output_type": "display_data"
    }
   ],
   "source": [
    "# Normalize the confusion matrix by row (i.e by the number of samples\n",
    "# in each class)\n",
    "cm_normalized = cm.astype('float') / cm.sum(axis=1)[:, np.newaxis]\n",
    "print('Normalized confusion matrix')\n",
    "print(cm_normalized)\n",
    "plt.figure()\n",
    "plot_confusion_matrix(cm_normalized, diagnosis, title='Normalized confusion matrix')\n",
    "\n",
    "plt.show()"
   ]
  },
  {
   "cell_type": "code",
   "execution_count": 52,
   "metadata": {},
   "outputs": [
    {
     "name": "stdout",
     "output_type": "stream",
     "text": [
      "Auc of classifer is \n",
      "0.6835616438356165\n"
     ]
    },
    {
     "data": {
      "image/png": "[encoded data removed]",
      "text/plain": [
       "<Figure size 432x288 with 1 Axes>"
      ]
     },
     "metadata": {},
     "output_type": "display_data"
    }
   ],
   "source": [
    "\n",
    "plot_roc(pred_label,test_label)"
   ]
  },
  {
   "cell_type": "code",
   "execution_count": null,
   "metadata": {},
   "outputs": [],
   "source": []
  }
 ],
 "metadata": {
  "kernelspec": {
   "display_name": "Python 3",
   "language": "python",
   "name": "python3"
  },
  "language_info": {
   "codemirror_mode": {
    "name": "ipython",
    "version": 3
   },
   "file_extension": ".py",
   "mimetype": "text/x-python",
   "name": "python",
   "nbconvert_exporter": "python",
   "pygments_lexer": "ipython3",
   "version": "3.5.2"
  }
 },
 "nbformat": 4,
 "nbformat_minor": 2
}
