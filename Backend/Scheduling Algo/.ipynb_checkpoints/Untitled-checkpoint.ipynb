{
 "cells": [
  {
   "cell_type": "code",
   "execution_count": 81,
   "metadata": {},
   "outputs": [],
   "source": [
    "import csv\n",
    "import pandas as pd\n",
    "from pandas import DataFrame\n",
    "import datetime"
   ]
  },
  {
   "cell_type": "code",
   "execution_count": 82,
   "metadata": {},
   "outputs": [
    {
     "name": "stdout",
     "output_type": "stream",
     "text": [
      "    Task  hour\n",
      "0  Task1  2.00\n",
      "1  Task2  1.00\n",
      "2  Task3  0.50\n",
      "3  Task4  0.75\n"
     ]
    }
   ],
   "source": [
    "df=pd.read_csv(\"tasks.csv\",parse_dates=True)\n",
    "print(df.head())"
   ]
  },
  {
   "cell_type": "code",
   "execution_count": 83,
   "metadata": {},
   "outputs": [
    {
     "name": "stdout",
     "output_type": "stream",
     "text": [
      "4.25\n"
     ]
    }
   ],
   "source": [
    "total_work=0.0\n",
    "for i in range(len(df)):\n",
    "    total_work+=df.iloc[i].hour\n",
    "    #print(df.iloc[i].hour)\n",
    "print(total_work)"
   ]
  },
  {
   "cell_type": "code",
   "execution_count": 84,
   "metadata": {},
   "outputs": [
    {
     "name": "stdout",
     "output_type": "stream",
     "text": [
      "   Free  hour  minu  weekday\n",
      "0     1     0    15        3\n",
      "1     1     0    30        3\n",
      "2     1     0    45        3\n",
      "3     1     1     0        3\n",
      "4     1     1    15        3\n"
     ]
    }
   ],
   "source": [
    "df1=pd.read_csv(\"predictedValue.csv\",parse_dates=True)\n",
    "print(df1.head())"
   ]
  },
  {
   "cell_type": "code",
   "execution_count": 85,
   "metadata": {},
   "outputs": [
    {
     "name": "stdout",
     "output_type": "stream",
     "text": [
      "{0: 7.25, 1: 13.25, 2: 13.0, 3: 11.5, 4: 10.75, 5: 11.0, 6: 9.25}\n"
     ]
    }
   ],
   "source": [
    "total_free={\n",
    "    0:0,\n",
    "    1:0,\n",
    "    2:0,\n",
    "    3:0,\n",
    "    4:0,\n",
    "    5:0,\n",
    "    6:0\n",
    "}\n",
    "for i in range(len(df1)):\n",
    "    #total_work+=df.iloc[i].hour\n",
    "    #print(df1.iloc[i].hour)\n",
    "    #print(df1.iloc[i].weekday)\n",
    "    weekday=df1.iloc[i].weekday\n",
    "    if(df1.iloc[i].Free):\n",
    "        total_free[weekday]+=0.25\n",
    "\n",
    "\n",
    "print(total_free)"
   ]
  },
  {
   "cell_type": "code",
   "execution_count": 86,
   "metadata": {},
   "outputs": [
    {
     "name": "stdout",
     "output_type": "stream",
     "text": [
      "76.0\n"
     ]
    }
   ],
   "source": [
    "Free_Time=0\n",
    "for i in range(len(total_free)):\n",
    "    Free_Time+=total_free[i]\n",
    "print(Free_Time)"
   ]
  },
  {
   "cell_type": "code",
   "execution_count": 87,
   "metadata": {},
   "outputs": [
    {
     "name": "stdout",
     "output_type": "stream",
     "text": [
      "10.25\n"
     ]
    }
   ],
   "source": [
    "extra_time=(Free_Time-total_work)/7\n",
    "print(extra_time)"
   ]
  },
  {
   "cell_type": "raw",
   "metadata": {},
   "source": [
    "for i in range(len(total_free)):\n",
    "    if((total_free[i]-extra_time)>0):\n",
    "        print(i)"
   ]
  },
  {
   "cell_type": "code",
   "execution_count": 96,
   "metadata": {},
   "outputs": [
    {
     "name": "stdout",
     "output_type": "stream",
     "text": [
      "    Task  hour\n",
      "0  Task1  2.00\n",
      "1  Task2  1.00\n",
      "2  Task3  0.50\n",
      "3  Task4  0.75\n",
      "    name  hour weekday\n",
      "0  Task1  2.00       1\n",
      "1  Task2  1.00       1\n",
      "2  Task3  0.50       2\n",
      "3  Task4  0.75       2\n"
     ]
    }
   ],
   "source": [
    "df3=df.copy()\n",
    "print(df3.head())\n",
    "df4 = pd.DataFrame(columns=['name','hour','weekday'])\n",
    "#for i in range(len(total_free)):\n",
    "for i in range(len(total_free)):\n",
    "    rem_time=total_free[i]-extra_time\n",
    "    if(rem_time>0):\n",
    "        \n",
    "        j=0\n",
    "        \n",
    "        while (rem_time!=0.0 and j<len(df3)):\n",
    "\n",
    "            temp=min(df3.iloc[j].hour,rem_time)\n",
    "            if(temp>0):\n",
    "                rem_time=rem_time-temp\n",
    "                      \n",
    "                df3.loc[j,\"hour\"]=df3.iloc[j].hour-temp\n",
    "            \n",
    "\n",
    "                df4 = df4.append({'name': df3.iloc[j].Task, 'hour': temp,'weekday':i}, ignore_index=True)\n",
    "            \n",
    "            \n",
    "            j+=1\n",
    "            \n",
    "print(df4)\n",
    "            \n",
    "    "
   ]
  },
  {
   "cell_type": "code",
   "execution_count": 101,
   "metadata": {},
   "outputs": [
    {
     "name": "stdout",
     "output_type": "stream",
     "text": [
      "    start    end  total weekday\n",
      "0    0:15   1:45   1.50       3\n",
      "1   11:30  13:45   2.25       3\n",
      "2    14:0  14:15   0.25       3\n",
      "3   16:15  17:15   1.00       3\n",
      "4   17:30   18:0   0.50       3\n",
      "5   18:15    0:0   6.00       3\n",
      "6    0:15   1:30   1.25       4\n",
      "7   11:45   12:0   0.25       4\n",
      "8   12:30  13:15   0.75       4\n",
      "9   13:30   14:0   0.50       4\n",
      "10  14:30   15:0   0.50       4\n",
      "11  16:30  18:45   2.25       4\n",
      "12   19:0    0:0   5.25       4\n",
      "13   0:15    1:0   0.75       5\n",
      "14   1:15   1:45   0.50       5\n",
      "15   10:0  10:15   0.25       5\n",
      "16  10:30   11:0   0.50       5\n",
      "17  11:30  12:45   1.25       5\n",
      "18   13:0   14:0   1.00       5\n",
      "19   17:0  17:15   0.25       5\n",
      "20  17:30   23:0   5.50       5\n",
      "21  23:15    0:0   1.00       5\n",
      "22   0:15   0:30   0.25       6\n",
      "23    1:0   2:30   1.50       6\n",
      "24   13:0   14:0   1.00       6\n",
      "25  16:15   22:0   5.75       6\n",
      "26  22:30  22:45   0.25       6\n",
      "27  23:30  23:45   0.25       6\n",
      "28  13:45  14:30   0.75       0\n",
      "29  15:30  16:15   0.75       0\n",
      "30  16:30  17:15   0.75       0\n",
      "31   19:0    0:0   5.25       0\n",
      "32   0:15    2:0   1.75       1\n",
      "33  11:30   12:0   0.50       1\n",
      "34  12:15   15:0   2.75       1\n",
      "35  15:45  17:15   1.50       1\n",
      "36  17:30    0:0   6.75       1\n",
      "37   0:15   1:15   1.00       2\n",
      "38  10:30  10:45   0.25       2\n",
      "39   11:0  16:15   5.25       2\n",
      "40  16:30  17:15   0.75       2\n",
      "41  17:30  17:45   0.25       2\n",
      "42  18:15  19:45   1.50       2\n",
      "43   20:0  20:15   0.25       2\n",
      "44  20:30    0:0   3.75       2\n"
     ]
    }
   ],
   "source": [
    "df5 = pd.DataFrame(columns=['starth','startm','endh','endm','total','weekday'])\n",
    "flag=0\n",
    "sart=0\n",
    "end=0\n",
    "total=0.0\n",
    "weekday=0\n",
    "\n",
    "for i in range(len(df1)):\n",
    "    if(df1.iloc[i].Free==1 and flag == 0):\n",
    "        starth=df1.iloc[i].hour\n",
    "        startm=df1.iloc[i].minu\n",
    "\n",
    "        flag=1\n",
    "    \n",
    "    if(df1.iloc[i].Free==1 and flag == 1):\n",
    "        total+=0.25\n",
    "\n",
    "    try:    \n",
    "        if((df1.iloc[i].Free==0 and flag == 1) or (df1.iloc[i].weekday != df1.iloc[i-1].weekday and  flag == 1)) :\n",
    "            endh=df1.iloc[i].hour\n",
    "            endm=df1.iloc[i].minu\n",
    "            weekday=df1.iloc[i-1].weekday\n",
    "            flag=0\n",
    "            df5 = df5.append({'start': start, 'end':end,'total': total,'weekday':weekday }, ignore_index=True)\n",
    "            \n",
    "            total=0\n",
    "    except:\n",
    "        pass\n",
    "    \n",
    "print(df5)\n",
    "\n",
    "                                                   \n",
    "                                                   \n",
    "                                                \n",
    "        \n",
    "    \n",
    "    "
   ]
  },
  {
   "cell_type": "code",
   "execution_count": null,
   "metadata": {},
   "outputs": [],
   "source": []
  }
 ],
 "metadata": {
  "kernelspec": {
   "display_name": "Python 3",
   "language": "python",
   "name": "python3"
  },
  "language_info": {
   "codemirror_mode": {
    "name": "ipython",
    "version": 3
   },
   "file_extension": ".py",
   "mimetype": "text/x-python",
   "name": "python",
   "nbconvert_exporter": "python",
   "pygments_lexer": "ipython3",
   "version": "3.5.2"
  }
 },
 "nbformat": 4,
 "nbformat_minor": 2
}
