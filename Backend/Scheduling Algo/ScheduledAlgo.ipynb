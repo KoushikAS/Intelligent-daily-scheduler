{
 "cells": [
  {
   "cell_type": "code",
   "execution_count": 244,
   "metadata": {},
   "outputs": [],
   "source": [
    "import csv\n",
    "import pandas as pd\n",
    "from pandas import DataFrame\n",
    "import datetime\n",
    "import math"
   ]
  },
  {
   "cell_type": "code",
   "execution_count": 245,
   "metadata": {},
   "outputs": [
    {
     "name": "stdout",
     "output_type": "stream",
     "text": [
      "    Task   hour\n",
      "0  Task1  10.00\n",
      "1  Task2   1.00\n",
      "2  Task3   0.50\n",
      "3  Task4   0.75\n"
     ]
    }
   ],
   "source": [
    "df=pd.read_csv(\"tasks.csv\",parse_dates=True)\n",
    "print(df.head())"
   ]
  },
  {
   "cell_type": "code",
   "execution_count": 246,
   "metadata": {},
   "outputs": [
    {
     "name": "stdout",
     "output_type": "stream",
     "text": [
      "12.25\n"
     ]
    }
   ],
   "source": [
    "total_work=0.0\n",
    "for i in range(len(df)):\n",
    "    total_work+=df.iloc[i].hour\n",
    "    #print(df.iloc[i].hour)\n",
    "print(total_work)"
   ]
  },
  {
   "cell_type": "code",
   "execution_count": 247,
   "metadata": {},
   "outputs": [
    {
     "name": "stdout",
     "output_type": "stream",
     "text": [
      "   Free  hour  minu  weekday\n",
      "0     1     0    15        3\n",
      "1     1     0    30        3\n",
      "2     1     0    45        3\n",
      "3     1     1     0        3\n",
      "4     1     1    15        3\n"
     ]
    }
   ],
   "source": [
    "df1=pd.read_csv(\"predictedValue.csv\",parse_dates=True)\n",
    "print(df1.head())"
   ]
  },
  {
   "cell_type": "code",
   "execution_count": 248,
   "metadata": {},
   "outputs": [
    {
     "name": "stdout",
     "output_type": "stream",
     "text": [
      "{0: 7.25, 1: 13.25, 2: 13.0, 3: 11.5, 4: 10.75, 5: 11.0, 6: 9.25}\n"
     ]
    }
   ],
   "source": [
    "total_free={\n",
    "    0:0,\n",
    "    1:0,\n",
    "    2:0,\n",
    "    3:0,\n",
    "    4:0,\n",
    "    5:0,\n",
    "    6:0\n",
    "}\n",
    "for i in range(len(df1)):\n",
    "    #total_work+=df.iloc[i].hour\n",
    "    #print(df1.iloc[i].hour)\n",
    "    #print(df1.iloc[i].weekday)\n",
    "    weekday=df1.iloc[i].weekday\n",
    "    if(df1.iloc[i].Free):\n",
    "        total_free[weekday]+=0.25\n",
    "\n",
    "\n",
    "print(total_free)"
   ]
  },
  {
   "cell_type": "code",
   "execution_count": 249,
   "metadata": {},
   "outputs": [
    {
     "name": "stdout",
     "output_type": "stream",
     "text": [
      "76.0\n"
     ]
    }
   ],
   "source": [
    "Free_Time=0\n",
    "for i in range(len(total_free)):\n",
    "    Free_Time+=total_free[i]\n",
    "print(Free_Time)"
   ]
  },
  {
   "cell_type": "code",
   "execution_count": 250,
   "metadata": {},
   "outputs": [
    {
     "name": "stdout",
     "output_type": "stream",
     "text": [
      "9\n"
     ]
    }
   ],
   "source": [
    "extra_time=math.floor((Free_Time-total_work)/7)\n",
    "print(extra_time)"
   ]
  },
  {
   "cell_type": "raw",
   "metadata": {},
   "source": [
    "for i in range(len(total_free)):\n",
    "    if((total_free[i]-extra_time)>0):\n",
    "        print(i)"
   ]
  },
  {
   "cell_type": "code",
   "execution_count": 251,
   "metadata": {},
   "outputs": [
    {
     "name": "stdout",
     "output_type": "stream",
     "text": [
      "    Task   hour\n",
      "0  Task1  10.00\n",
      "1  Task2   1.00\n",
      "2  Task3   0.50\n",
      "3  Task4   0.75\n",
      "1\n",
      "2\n",
      "3\n",
      "4\n",
      "5\n",
      "6\n",
      "    name  hour weekday\n",
      "0  Task1  4.25       1\n",
      "1  Task1  4.00       2\n",
      "2  Task1  1.75       3\n",
      "3  Task2  0.75       3\n",
      "4  Task2  0.25       4\n",
      "5  Task3  0.50       4\n",
      "6  Task4  0.75       4\n"
     ]
    }
   ],
   "source": [
    "df3=df.copy()\n",
    "print(df3.head())\n",
    "df4 = pd.DataFrame(columns=['name','hour','weekday'])\n",
    "#for i in range(len(total_free)):\n",
    "for i in range(len(total_free)):\n",
    "    rem_time=total_free[i]-extra_time\n",
    "    if(rem_time>0):\n",
    "        print(i)\n",
    "        j=0\n",
    "        \n",
    "        while (rem_time!=0.0 and j<len(df3)):\n",
    "\n",
    "            temp=min(df3.iloc[j].hour,rem_time)\n",
    "            if(temp>0):\n",
    "                rem_time=rem_time-temp\n",
    "                      \n",
    "                df3.loc[j,\"hour\"]=df3.iloc[j].hour-temp\n",
    "            \n",
    "\n",
    "                df4 = df4.append({'name': df3.iloc[j].Task, 'hour': temp,'weekday':i}, ignore_index=True)\n",
    "            \n",
    "            \n",
    "            j+=1\n",
    "            \n",
    "print(df4)\n",
    "            \n",
    "    "
   ]
  },
  {
   "cell_type": "code",
   "execution_count": 252,
   "metadata": {},
   "outputs": [
    {
     "name": "stdout",
     "output_type": "stream",
     "text": [
      "   starth  startm  endh  endm  total  weekday\n",
      "0     0.0    15.0   1.0  45.0   1.50      3.0\n",
      "1    11.0    30.0  13.0  45.0   2.25      3.0\n",
      "2    14.0     0.0  14.0  15.0   0.25      3.0\n",
      "3    16.0    15.0  17.0  15.0   1.00      3.0\n",
      "4    17.0    30.0  18.0   0.0   0.50      3.0\n"
     ]
    }
   ],
   "source": [
    "df5 = pd.DataFrame(columns=['starth','startm','endh','endm','total','weekday'])\n",
    "flag=0\n",
    "\n",
    "total=0.0\n",
    "\n",
    "\n",
    "for i in range(len(df1)):\n",
    "    if(df1.iloc[i].Free==1 and flag == 0):\n",
    "        starth=df1.iloc[i].hour\n",
    "        startm=df1.iloc[i].minu\n",
    "\n",
    "        flag=1\n",
    "    \n",
    "    if(df1.iloc[i].Free==1 and flag == 1):\n",
    "        total+=0.25\n",
    "\n",
    "    try:    \n",
    "        if((df1.iloc[i].Free==0 and flag == 1) or (df1.iloc[i].weekday != df1.iloc[i-1].weekday and  flag == 1)) :\n",
    "            endh=df1.iloc[i].hour\n",
    "            endm=df1.iloc[i].minu\n",
    "            weekday=df1.iloc[i-1].weekday\n",
    "            flag=0\n",
    "            df5 = df5.append({'starth': starth,'startm': startm, 'endh':endh, 'endm':endm,'total': total,'weekday':weekday }, ignore_index=True)\n",
    "            \n",
    "            total=0\n",
    "    except:\n",
    "        pass\n",
    "    \n",
    "print(df5.head())\n",
    "\n",
    "                                                   \n",
    "                                                   \n",
    "                                                \n",
    "        \n",
    "    \n",
    "    "
   ]
  },
  {
   "cell_type": "code",
   "execution_count": 253,
   "metadata": {},
   "outputs": [
    {
     "name": "stdout",
     "output_type": "stream",
     "text": [
      "    starth  startm  endh  endm  total  weekday\n",
      "31    19.0     0.0   0.0   0.0   5.25      0.0\n",
      "28    13.0    45.0  14.0  30.0   0.75      0.0\n",
      "29    15.0    30.0  16.0  15.0   0.75      0.0\n",
      "30    16.0    30.0  17.0  15.0   0.75      0.0\n",
      "36    17.0    30.0   0.0   0.0   6.75      1.0\n"
     ]
    }
   ],
   "source": [
    "df5=df5.sort_values(by=['weekday', 'total'], ascending=[1,0])\n",
    "\n",
    "print(df5.head())\n",
    "    "
   ]
  },
  {
   "cell_type": "code",
   "execution_count": 254,
   "metadata": {},
   "outputs": [
    {
     "name": "stdout",
     "output_type": "stream",
     "text": [
      "Task1\n",
      "Task1\n",
      "Task1\n",
      "Task2\n",
      "Task2\n",
      "Task3\n",
      "Task4\n",
      "    Task    start      end weekday\n",
      "0  Task1  17 : 30  21 : 45       1\n",
      "1  Task1   11 : 0   15 : 0       2\n",
      "2  Task1  18 : 15   20 : 0       3\n",
      "3  Task2   20 : 0  20 : 45       3\n",
      "4  Task2   19 : 0  19 : 15       4\n",
      "5  Task3  19 : 15  19 : 45       4\n",
      "6  Task4  19 : 45  20 : 30       4\n"
     ]
    }
   ],
   "source": [
    "df6 = pd.DataFrame(columns=['Task','start','end','weekday'])\n",
    "for i in range(len(df4)):\n",
    "    weekday=df4.iloc[i].weekday\n",
    "    rem_time=df4.iloc[i].hour\n",
    "    name=df4.iloc[i]['name']\n",
    "    print(name)\n",
    "    j=0\n",
    "    #d=df5.query('weekday =='+str(weekday))\n",
    "    \n",
    "    while(rem_time!=0.0 and j<len(df5)):\n",
    "        if(df5.iloc[j].weekday==weekday):\n",
    "            temp=min(df5.iloc[j].total,rem_time)\n",
    "            rem_time=rem_time-temp\n",
    "            df5.iloc[j].total=df5.iloc[j].total-temp\n",
    "            \n",
    "            starth=df5.iloc[j].starth\n",
    "            startm=df5.iloc[j].startm\n",
    "            hour=int(temp)\n",
    "            minu=temp-hour\n",
    "            if(minu==0.25):\n",
    "                minu=15\n",
    "            if(minu == 0.5):\n",
    "                minu=30\n",
    "            if(minu == 0.75):\n",
    "                minu=45\n",
    "      \n",
    "            endh=int(starth)+hour\n",
    "            endm=int(startm)+minu\n",
    "            if(endm>=60):\n",
    "                endh+=1\n",
    "                endm-=60\n",
    "            \n",
    "            df5.iloc[j].starth=endh\n",
    "            df5.iloc[j].startm=endm\n",
    "      \n",
    "            \n",
    "            \n",
    "            start=str(int(starth))+\" : \"+str(int(startm))\n",
    "            end=str(int(endh))+\" : \"+str(int(endm))\n",
    "            df6 = df6.append({'Task':name,'start': start, 'end':end,'weekday':weekday }, ignore_index=True)\n",
    "     \n",
    "        j+=1\n",
    "        \n",
    "print(df6)\n"
   ]
  },
  {
   "cell_type": "code",
   "execution_count": 255,
   "metadata": {},
   "outputs": [],
   "source": [
    "df6.to_csv(\"scheduled_Task.csv\",mode = 'w')"
   ]
  },
  {
   "cell_type": "code",
   "execution_count": null,
   "metadata": {},
   "outputs": [],
   "source": []
  }
 ],
 "metadata": {
  "kernelspec": {
   "display_name": "Python 3",
   "language": "python",
   "name": "python3"
  },
  "language_info": {
   "codemirror_mode": {
    "name": "ipython",
    "version": 3
   },
   "file_extension": ".py",
   "mimetype": "text/x-python",
   "name": "python",
   "nbconvert_exporter": "python",
   "pygments_lexer": "ipython3",
   "version": "3.5.2"
  }
 },
 "nbformat": 4,
 "nbformat_minor": 2
}
